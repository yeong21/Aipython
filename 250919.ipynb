{
  "nbformat": 4,
  "nbformat_minor": 0,
  "metadata": {
    "colab": {
      "provenance": []
    },
    "kernelspec": {
      "name": "python3",
      "display_name": "Python 3"
    },
    "language_info": {
      "name": "python"
    }
  },
  "cells": [
    {
      "cell_type": "code",
      "source": [
        "\n",
        "#name 번수에 '홍길동'을 대입하고 age 변수에 18을 대입\n",
        "name='홍길동'\n",
        "age='18'"
      ],
      "metadata": {
        "id": "uZbyxP7-cQ06"
      },
      "execution_count": 7,
      "outputs": []
    },
    {
      "cell_type": "code",
      "source": [
        "type(name)"
      ],
      "metadata": {
        "colab": {
          "base_uri": "https://localhost:8080/"
        },
        "id": "TsMKhyFtmXwc",
        "outputId": "5c1b0342-1153-485f-cae2-6cf2b7a80a56"
      },
      "execution_count": 82,
      "outputs": [
        {
          "output_type": "execute_result",
          "data": {
            "text/plain": [
              "str"
            ]
          },
          "metadata": {},
          "execution_count": 82
        }
      ]
    },
    {
      "cell_type": "code",
      "source": [
        "height=180.5\n",
        "type(height)"
      ],
      "metadata": {
        "colab": {
          "base_uri": "https://localhost:8080/"
        },
        "id": "NRyrzEM9mZNs",
        "outputId": "a8a5e688-0f60-4b4d-cc7c-c1d6340ec011"
      },
      "execution_count": 83,
      "outputs": [
        {
          "output_type": "execute_result",
          "data": {
            "text/plain": [
              "float"
            ]
          },
          "metadata": {},
          "execution_count": 83
        }
      ]
    },
    {
      "cell_type": "code",
      "source": [
        "flag=True\n",
        "type(flag)"
      ],
      "metadata": {
        "colab": {
          "base_uri": "https://localhost:8080/"
        },
        "id": "oEHg0rrSmh5E",
        "outputId": "4d519016-e899-4e20-c357-7ab2a023c79b"
      },
      "execution_count": 84,
      "outputs": [
        {
          "output_type": "execute_result",
          "data": {
            "text/plain": [
              "bool"
            ]
          },
          "metadata": {},
          "execution_count": 84
        }
      ]
    },
    {
      "cell_type": "code",
      "source": [
        "name"
      ],
      "metadata": {
        "colab": {
          "base_uri": "https://localhost:8080/",
          "height": 35
        },
        "id": "cUA51fEDcg9q",
        "outputId": "340d005c-91e2-4444-c769-a7af4d93a27e"
      },
      "execution_count": 8,
      "outputs": [
        {
          "output_type": "execute_result",
          "data": {
            "text/plain": [
              "'홍길동'"
            ],
            "application/vnd.google.colaboratory.intrinsic+json": {
              "type": "string"
            }
          },
          "metadata": {},
          "execution_count": 8
        }
      ]
    },
    {
      "cell_type": "code",
      "source": [
        "age"
      ],
      "metadata": {
        "colab": {
          "base_uri": "https://localhost:8080/",
          "height": 35
        },
        "id": "w0REnL9uc7Rh",
        "outputId": "3935a697-49b2-402a-b0a0-2b6581849e39"
      },
      "execution_count": 9,
      "outputs": [
        {
          "output_type": "execute_result",
          "data": {
            "text/plain": [
              "'18'"
            ],
            "application/vnd.google.colaboratory.intrinsic+json": {
              "type": "string"
            }
          },
          "metadata": {},
          "execution_count": 9
        }
      ]
    },
    {
      "cell_type": "code",
      "source": [
        "print(name)\n",
        "print(age)"
      ],
      "metadata": {
        "colab": {
          "base_uri": "https://localhost:8080/"
        },
        "id": "zRHZBwMBc_Z4",
        "outputId": "e6ef8dca-c722-4ce6-80fd-6344d64ffc12"
      },
      "execution_count": 10,
      "outputs": [
        {
          "output_type": "stream",
          "name": "stdout",
          "text": [
            "홍길동\n",
            "18\n"
          ]
        }
      ]
    },
    {
      "cell_type": "code",
      "source": [
        "c=10"
      ],
      "metadata": {
        "id": "VxFviXK2dCmv"
      },
      "execution_count": 44,
      "outputs": []
    },
    {
      "cell_type": "code",
      "source": [
        "b=c"
      ],
      "metadata": {
        "id": "TIEwVSejdj5P"
      },
      "execution_count": 45,
      "outputs": []
    },
    {
      "cell_type": "code",
      "source": [
        "a=b"
      ],
      "metadata": {
        "id": "2tvKblpgeHOv"
      },
      "execution_count": 46,
      "outputs": []
    },
    {
      "cell_type": "code",
      "source": [
        "print(a,b,c)"
      ],
      "metadata": {
        "colab": {
          "base_uri": "https://localhost:8080/"
        },
        "id": "KFeNJ8oyeKoG",
        "outputId": "ff6a71ef-b46d-45ca-994a-2592045b34c2"
      },
      "execution_count": 47,
      "outputs": [
        {
          "output_type": "stream",
          "name": "stdout",
          "text": [
            "10 10 10\n"
          ]
        }
      ]
    },
    {
      "cell_type": "code",
      "source": [
        "a+=10"
      ],
      "metadata": {
        "id": "DJwE5bj0fyYE"
      },
      "execution_count": 48,
      "outputs": []
    },
    {
      "cell_type": "code",
      "source": [
        "print(a)"
      ],
      "metadata": {
        "colab": {
          "base_uri": "https://localhost:8080/"
        },
        "id": "5yfhDwPVf1wE",
        "outputId": "f857435f-9caa-44ab-a5ea-0ef5ac839453"
      },
      "execution_count": 49,
      "outputs": [
        {
          "output_type": "stream",
          "name": "stdout",
          "text": [
            "20\n"
          ]
        }
      ]
    },
    {
      "cell_type": "code",
      "source": [
        "a-=10"
      ],
      "metadata": {
        "id": "0njerAyngZmT"
      },
      "execution_count": 50,
      "outputs": []
    },
    {
      "cell_type": "code",
      "source": [
        "print(a)"
      ],
      "metadata": {
        "colab": {
          "base_uri": "https://localhost:8080/"
        },
        "id": "YHHmGgFngb37",
        "outputId": "7b7c554d-83e1-4e0f-9e59-442655a370ad"
      },
      "execution_count": 51,
      "outputs": [
        {
          "output_type": "stream",
          "name": "stdout",
          "text": [
            "10\n"
          ]
        }
      ]
    },
    {
      "cell_type": "code",
      "source": [
        "#변수이름의 규칙 시험에 잘 나옴\n",
        "#◦ 첫 번째 글자는 문자 또는 밑줄( _ )이어야 하고, 나머지 글자는 문자, 숫자, 밑줄( _ )이어야 합니다.\n",
        "#◦ 영문 대문자와 영문 소문자는 구분됩니다.\n",
        "#◦ 키워드(예약어)를 변수 이름으로 사용할 수 없습니다.\n",
        "#▪ 키워드(keyword): 프로그래밍 언어에서 사용하기 위해 쓰임새를 미리 정해 놓은 단어입니다."
      ],
      "metadata": {
        "id": "DunXJYJsgfPz"
      },
      "execution_count": 54,
      "outputs": []
    },
    {
      "cell_type": "code",
      "source": [
        "you=10"
      ],
      "metadata": {
        "id": "VG7Tsv_rfTS1"
      },
      "execution_count": 61,
      "outputs": []
    },
    {
      "cell_type": "code",
      "source": [
        "AGE=100"
      ],
      "metadata": {
        "id": "Rw7ZxldShTfT"
      },
      "execution_count": 57,
      "outputs": []
    },
    {
      "cell_type": "code",
      "source": [
        "age=10\n"
      ],
      "metadata": {
        "id": "3-Bu2vpyiYP5"
      },
      "execution_count": 58,
      "outputs": []
    },
    {
      "cell_type": "code",
      "source": [
        "AGE"
      ],
      "metadata": {
        "colab": {
          "base_uri": "https://localhost:8080/"
        },
        "id": "1J_r9AnGiaYi",
        "outputId": "e0822bc4-7aee-4200-cf9d-dc45ce57fb19"
      },
      "execution_count": 59,
      "outputs": [
        {
          "output_type": "execute_result",
          "data": {
            "text/plain": [
              "100"
            ]
          },
          "metadata": {},
          "execution_count": 59
        }
      ]
    },
    {
      "cell_type": "code",
      "source": [
        "age"
      ],
      "metadata": {
        "colab": {
          "base_uri": "https://localhost:8080/"
        },
        "id": "xFXOVDW9ibBy",
        "outputId": "d1049f2b-88fe-46f2-b102-6f5145c94632"
      },
      "execution_count": 60,
      "outputs": [
        {
          "output_type": "execute_result",
          "data": {
            "text/plain": [
              "10"
            ]
          },
          "metadata": {},
          "execution_count": 60
        }
      ]
    },
    {
      "cell_type": "code",
      "source": [
        "a=7\n",
        "b=11\n",
        "c=a\n",
        "a=b\n",
        "b=c\n"
      ],
      "metadata": {
        "id": "GB3166FzibbZ"
      },
      "execution_count": 73,
      "outputs": []
    },
    {
      "cell_type": "code",
      "source": [
        "a"
      ],
      "metadata": {
        "colab": {
          "base_uri": "https://localhost:8080/"
        },
        "id": "WKBlxljNjATh",
        "outputId": "8874d494-4bf7-4bbb-a087-dfd55cc8ebf3"
      },
      "execution_count": 74,
      "outputs": [
        {
          "output_type": "execute_result",
          "data": {
            "text/plain": [
              "11"
            ]
          },
          "metadata": {},
          "execution_count": 74
        }
      ]
    },
    {
      "cell_type": "code",
      "source": [
        "b"
      ],
      "metadata": {
        "colab": {
          "base_uri": "https://localhost:8080/"
        },
        "id": "x6hEMSDdjbAY",
        "outputId": "ce9adb04-5f38-4865-ff6c-bdc80f7a57af"
      },
      "execution_count": 75,
      "outputs": [
        {
          "output_type": "execute_result",
          "data": {
            "text/plain": [
              "7"
            ]
          },
          "metadata": {},
          "execution_count": 75
        }
      ]
    },
    {
      "cell_type": "code",
      "source": [
        "type(name)"
      ],
      "metadata": {
        "colab": {
          "base_uri": "https://localhost:8080/"
        },
        "id": "h9YNgoF3l841",
        "outputId": "0cc61ac2-d3f4-4b66-e009-b8802ec03260"
      },
      "execution_count": 81,
      "outputs": [
        {
          "output_type": "execute_result",
          "data": {
            "text/plain": [
              "str"
            ]
          },
          "metadata": {},
          "execution_count": 81
        }
      ]
    },
    {
      "cell_type": "code",
      "source": [
        "a=20\n",
        "b= 0o32\n",
        "c=0xA1\n",
        "d=0b1110"
      ],
      "metadata": {
        "id": "xHxp1Smzl_gm"
      },
      "execution_count": 93,
      "outputs": []
    },
    {
      "cell_type": "code",
      "source": [
        "print(a)\n",
        "print(b)\n",
        "print(c)\n",
        "print(d)"
      ],
      "metadata": {
        "colab": {
          "base_uri": "https://localhost:8080/"
        },
        "id": "LM4QAk0zqkCp",
        "outputId": "8a2bf072-6047-4163-f87a-400a20e23f92"
      },
      "execution_count": 94,
      "outputs": [
        {
          "output_type": "stream",
          "name": "stdout",
          "text": [
            "20\n",
            "26\n",
            "161\n",
            "14\n"
          ]
        }
      ]
    },
    {
      "cell_type": "code",
      "source": [
        "a=10\n",
        "b=20"
      ],
      "metadata": {
        "id": "9Ws0GNxqqnYx"
      },
      "execution_count": 97,
      "outputs": []
    },
    {
      "cell_type": "code",
      "source": [
        "c,d= 30,40"
      ],
      "metadata": {
        "id": "HRUWLY95r6aX"
      },
      "execution_count": null,
      "outputs": []
    },
    {
      "cell_type": "code",
      "source": [
        "a=10>20"
      ],
      "metadata": {
        "id": "jaB1Ol9BsOOO"
      },
      "execution_count": 99,
      "outputs": []
    },
    {
      "cell_type": "code",
      "source": [
        "a"
      ],
      "metadata": {
        "colab": {
          "base_uri": "https://localhost:8080/"
        },
        "id": "2n_3HPomsQ32",
        "outputId": "68252f07-3c9b-44c0-e0ad-3f8f78549b29"
      },
      "execution_count": 100,
      "outputs": [
        {
          "output_type": "execute_result",
          "data": {
            "text/plain": [
              "False"
            ]
          },
          "metadata": {},
          "execution_count": 100
        }
      ]
    },
    {
      "cell_type": "code",
      "source": [
        "type(a)"
      ],
      "metadata": {
        "colab": {
          "base_uri": "https://localhost:8080/"
        },
        "id": "aXs4H798sSoH",
        "outputId": "84111ff0-08c8-43b8-9135-1da25d0829ec"
      },
      "execution_count": 102,
      "outputs": [
        {
          "output_type": "execute_result",
          "data": {
            "text/plain": [
              "bool"
            ]
          },
          "metadata": {},
          "execution_count": 102
        }
      ]
    },
    {
      "cell_type": "code",
      "source": [
        "a='python'"
      ],
      "metadata": {
        "id": "LXa1xd2HsUSv"
      },
      "execution_count": 103,
      "outputs": []
    },
    {
      "cell_type": "code",
      "source": [
        "a=\"python\""
      ],
      "metadata": {
        "id": "_XpnV87psvx6"
      },
      "execution_count": null,
      "outputs": []
    },
    {
      "cell_type": "code",
      "source": [
        "a='Hi'+'python'"
      ],
      "metadata": {
        "id": "O2nirWIstFAF"
      },
      "execution_count": 105,
      "outputs": []
    },
    {
      "cell_type": "code",
      "source": [
        "a"
      ],
      "metadata": {
        "colab": {
          "base_uri": "https://localhost:8080/",
          "height": 35
        },
        "id": "kkaec-_XtMsu",
        "outputId": "4051c8a7-73f7-47d1-9d68-83f5d6ef0384"
      },
      "execution_count": 106,
      "outputs": [
        {
          "output_type": "execute_result",
          "data": {
            "text/plain": [
              "'Hipython'"
            ],
            "application/vnd.google.colaboratory.intrinsic+json": {
              "type": "string"
            }
          },
          "metadata": {},
          "execution_count": 106
        }
      ]
    },
    {
      "cell_type": "code",
      "source": [
        "a=10\n",
        "b='10'"
      ],
      "metadata": {
        "id": "-rQbay3DtNX2"
      },
      "execution_count": 109,
      "outputs": []
    },
    {
      "cell_type": "code",
      "source": [
        "c=str(a)+b\n",
        "print(c)"
      ],
      "metadata": {
        "colab": {
          "base_uri": "https://localhost:8080/"
        },
        "id": "rEheuusXtRW-",
        "outputId": "e1f58e27-29c4-4c36-c029-8660a4be382e"
      },
      "execution_count": 111,
      "outputs": [
        {
          "output_type": "stream",
          "name": "stdout",
          "text": [
            "1010\n"
          ]
        }
      ]
    },
    {
      "cell_type": "code",
      "source": [
        "c=a+int(b)\n",
        "print(c)"
      ],
      "metadata": {
        "colab": {
          "base_uri": "https://localhost:8080/"
        },
        "id": "LXH0Ev3utTcW",
        "outputId": "f294c2be-e0bd-4cde-af47-e2bb7ab40af8"
      },
      "execution_count": 114,
      "outputs": [
        {
          "output_type": "stream",
          "name": "stdout",
          "text": [
            "20\n"
          ]
        }
      ]
    },
    {
      "cell_type": "code",
      "source": [
        "c=a+float(b)\n",
        "print(c)"
      ],
      "metadata": {
        "colab": {
          "base_uri": "https://localhost:8080/"
        },
        "id": "t6mqyfOpuLWt",
        "outputId": "e05ff93b-bfdb-4bdb-f966-0822f85ad00e"
      },
      "execution_count": 120,
      "outputs": [
        {
          "output_type": "stream",
          "name": "stdout",
          "text": [
            "20.0\n"
          ]
        }
      ]
    },
    {
      "cell_type": "code",
      "source": [
        "c=a+float(b)\n",
        "c=int(c)\n",
        "print(c)"
      ],
      "metadata": {
        "colab": {
          "base_uri": "https://localhost:8080/"
        },
        "id": "2OaqxToMupg9",
        "outputId": "bb7e5b68-6b4c-49e5-b0c8-17326a3fc90e"
      },
      "execution_count": 121,
      "outputs": [
        {
          "output_type": "stream",
          "name": "stdout",
          "text": [
            "20\n"
          ]
        }
      ]
    },
    {
      "cell_type": "code",
      "source": [
        "name=input('이름을 입력')\n",
        "age=int(input('나이를 입력'))"
      ],
      "metadata": {
        "colab": {
          "base_uri": "https://localhost:8080/"
        },
        "id": "_2ud8sGtu2ek",
        "outputId": "306b1527-e603-4673-e8a5-7f82a1b8d3f5"
      },
      "execution_count": 128,
      "outputs": [
        {
          "name": "stdout",
          "output_type": "stream",
          "text": [
            "이름을 입력홍길동\n",
            "나이를 입력18\n"
          ]
        }
      ]
    },
    {
      "cell_type": "code",
      "source": [
        "name"
      ],
      "metadata": {
        "colab": {
          "base_uri": "https://localhost:8080/",
          "height": 35
        },
        "id": "UvFuxuqpvhME",
        "outputId": "c7212fa9-2235-4368-bfe9-c3681e1dbe1f"
      },
      "execution_count": 129,
      "outputs": [
        {
          "output_type": "execute_result",
          "data": {
            "text/plain": [
              "'홍길동'"
            ],
            "application/vnd.google.colaboratory.intrinsic+json": {
              "type": "string"
            }
          },
          "metadata": {},
          "execution_count": 129
        }
      ]
    },
    {
      "cell_type": "code",
      "source": [
        "age"
      ],
      "metadata": {
        "colab": {
          "base_uri": "https://localhost:8080/",
          "height": 35
        },
        "id": "c9MClpzBwGOz",
        "outputId": "80770f71-7674-489c-a041-ffd591fa3591"
      },
      "execution_count": 130,
      "outputs": [
        {
          "output_type": "execute_result",
          "data": {
            "text/plain": [
              "'18'"
            ],
            "application/vnd.google.colaboratory.intrinsic+json": {
              "type": "string"
            }
          },
          "metadata": {},
          "execution_count": 130
        }
      ]
    },
    {
      "cell_type": "code",
      "source": [
        "type(name)"
      ],
      "metadata": {
        "colab": {
          "base_uri": "https://localhost:8080/"
        },
        "id": "3eX_8eZSwGki",
        "outputId": "7b22f789-bc9c-42c9-a28f-ebb8f5424daa"
      },
      "execution_count": 132,
      "outputs": [
        {
          "output_type": "execute_result",
          "data": {
            "text/plain": [
              "str"
            ]
          },
          "metadata": {},
          "execution_count": 132
        }
      ]
    },
    {
      "cell_type": "code",
      "source": [
        "type(age)"
      ],
      "metadata": {
        "colab": {
          "base_uri": "https://localhost:8080/"
        },
        "id": "jj2xIKDEwLPy",
        "outputId": "17256b4d-d91d-40ef-fac6-5beabc3a7fc7"
      },
      "execution_count": 133,
      "outputs": [
        {
          "output_type": "execute_result",
          "data": {
            "text/plain": [
              "str"
            ]
          },
          "metadata": {},
          "execution_count": 133
        }
      ]
    },
    {
      "cell_type": "code",
      "source": [
        "age+=2"
      ],
      "metadata": {
        "colab": {
          "base_uri": "https://localhost:8080/",
          "height": 147
        },
        "id": "wKYwKbyPwS8K",
        "outputId": "99ed2181-9442-4360-cc3e-a2b6926cb073"
      },
      "execution_count": 136,
      "outputs": [
        {
          "output_type": "error",
          "ename": "TypeError",
          "evalue": "can only concatenate str (not \"int\") to str",
          "traceback": [
            "\u001b[0;31m---------------------------------------------------------------------------\u001b[0m",
            "\u001b[0;31mTypeError\u001b[0m                                 Traceback (most recent call last)",
            "\u001b[0;32m/tmp/ipython-input-3256244110.py\u001b[0m in \u001b[0;36m<cell line: 0>\u001b[0;34m()\u001b[0m\n\u001b[0;32m----> 1\u001b[0;31m \u001b[0mage\u001b[0m\u001b[0;34m+=\u001b[0m\u001b[0;36m2\u001b[0m\u001b[0;34m\u001b[0m\u001b[0;34m\u001b[0m\u001b[0m\n\u001b[0m",
            "\u001b[0;31mTypeError\u001b[0m: can only concatenate str (not \"int\") to str"
          ]
        }
      ]
    },
    {
      "cell_type": "code",
      "source": [
        "age=int(age)+2"
      ],
      "metadata": {
        "id": "_HRG7G57wkH6"
      },
      "execution_count": 138,
      "outputs": []
    },
    {
      "cell_type": "code",
      "source": [
        "age"
      ],
      "metadata": {
        "colab": {
          "base_uri": "https://localhost:8080/"
        },
        "id": "qcVI0lP9wtMK",
        "outputId": "81fae784-f7be-4ff5-80b6-0deff81d1f0d"
      },
      "execution_count": 140,
      "outputs": [
        {
          "output_type": "execute_result",
          "data": {
            "text/plain": [
              "20"
            ]
          },
          "metadata": {},
          "execution_count": 140
        }
      ]
    },
    {
      "cell_type": "code",
      "source": [
        "a=int(input('정수'))\n",
        "b=int(input('정수'))\n",
        "c= a-b\n",
        "print(a,b,c)\n",
        "print(a)\n",
        "print()\n",
        "print(b, end='')\n",
        "print(c)"
      ],
      "metadata": {
        "colab": {
          "base_uri": "https://localhost:8080/"
        },
        "id": "mkcvLoI9w4M6",
        "outputId": "e940aac6-00a7-4169-c774-fc847d3cdd37"
      },
      "execution_count": 152,
      "outputs": [
        {
          "output_type": "stream",
          "name": "stdout",
          "text": [
            "정수9\n",
            "정수5\n",
            "9 5 4\n",
            "9\n",
            "\n",
            "54\n"
          ]
        }
      ]
    },
    {
      "cell_type": "code",
      "source": [],
      "metadata": {
        "id": "WQv4WzAVx35S"
      },
      "execution_count": null,
      "outputs": []
    },
    {
      "cell_type": "markdown",
      "metadata": {
        "id": "8b76d7f5"
      },
      "source": [
        "## f-문자열 (Formatted String Literals)\n",
        "\n",
        "f-문자열은 파이썬 3.6 이상에서 도입된 문자열 포맷팅 방법입니다. 문자열 앞에 `f` 또는 `F`를 붙이고, 문자열 안에 `{}`를 사용하여 변수나 표현식을 직접 삽입할 수 있어 코드를 더 간결하고 읽기 쉽게 만듭니다."
      ]
    },
    {
      "cell_type": "code",
      "metadata": {
        "colab": {
          "base_uri": "https://localhost:8080/"
        },
        "id": "fdd2f46a",
        "outputId": "10df44b1-f2e0-47b7-c644-c0a418c14c1f"
      },
      "source": [
        "# f-문자열 예시\n",
        "\n",
        "name = \"홍길동\"\n",
        "age = 30\n",
        "\n",
        "# 변수 삽입\n",
        "greeting = f\"안녕하세요, {name}님! 나이는 {age}세입니다.\"\n",
        "print(greeting)\n",
        "\n",
        "# 표현식 삽입\n",
        "x = 10\n",
        "y = 20\n",
        "result = f\"x + y의 결과는 {x + y}입니다.\"\n",
        "print(result)\n",
        "\n",
        "# 함수 호출 결과 삽입\n",
        "def get_status():\n",
        "  return \"준비 완료\"\n",
        "\n",
        "pi = 3.14159\n",
        "print(f\"파이값은 {pi:.2f}입니다\")"
      ],
      "execution_count": 154,
      "outputs": [
        {
          "output_type": "stream",
          "name": "stdout",
          "text": [
            "안녕하세요, 홍길동님! 나이는 30세입니다.\n",
            "x + y의 결과는 30입니다.\n",
            "파이값은 3.14입니다\n"
          ]
        }
      ]
    },
    {
      "cell_type": "code",
      "source": [
        "pi=3.14159\n",
        "R= int(input(\"반지름을 입력하세요\"))\n",
        "circle=R*R*pi\n",
        "print(f\"원의 넓이는 {circle:.2f}입니다\")"
      ],
      "metadata": {
        "colab": {
          "base_uri": "https://localhost:8080/"
        },
        "id": "j_vN0vkZ1CDF",
        "outputId": "350f264b-4ddd-48ba-d77a-dd0b5d9401bc"
      },
      "execution_count": 157,
      "outputs": [
        {
          "output_type": "stream",
          "name": "stdout",
          "text": [
            "반지름을 입력하세요3\n",
            "원의 넓이는 28.27입니다\n"
          ]
        }
      ]
    },
    {
      "cell_type": "code",
      "source": [],
      "metadata": {
        "id": "M0i8UEYW1zo-"
      },
      "execution_count": null,
      "outputs": []
    }
  ]
}