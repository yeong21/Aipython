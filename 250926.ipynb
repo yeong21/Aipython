{
  "nbformat": 4,
  "nbformat_minor": 0,
  "metadata": {
    "colab": {
      "provenance": []
    },
    "kernelspec": {
      "name": "python3",
      "display_name": "Python 3"
    },
    "language_info": {
      "name": "python"
    }
  },
  "cells": [
    {
      "cell_type": "code",
      "execution_count": 12,
      "metadata": {
        "colab": {
          "base_uri": "https://localhost:8080/"
        },
        "id": "XfDcPq4Sd_lO",
        "outputId": "f52cdcc9-50cf-4f4a-f398-ae9f540acf10"
      },
      "outputs": [
        {
          "output_type": "stream",
          "name": "stdout",
          "text": [
            "숫자를 입력하세요: 2\n",
            "짝수입니다\n"
          ]
        }
      ],
      "source": [
        "num = int(input(\"숫자를 입력하세요: \"))\n",
        "if num % 2 == 0: #조건식\n",
        "  print(\"짝수입니다\")\n",
        "else:\n",
        "  print(\"홀수입니다.\")"
      ]
    },
    {
      "cell_type": "code",
      "metadata": {
        "id": "928cc1ea"
      },
      "source": [
        "height1 = int(input(\"첫 번째 학생의 키를 입력하세요: \"))\n",
        "height2 = int(input(\"두 번째 학생의 키를 입력하세요: \"))\n",
        "# 만약 height1이 height2보다 크다면\n",
        "if height1 > height2:\n",
        "# height1에서 height2를 빼서 차이를 구합니다.\n",
        "  diff = height1 - height2\n",
        "# 그렇지 않다면 (height2가 더 크거나 같다면)\n",
        "else:\n",
        "# height2에서 height1을 빼서 차이를 구합니다.\n",
        "  diff = height2 - height1\n",
        "print(\"두 학생의 키 차이는\", diff, \"입니다.\")"
      ],
      "execution_count": null,
      "outputs": []
    },
    {
      "cell_type": "code",
      "source": [
        "age = int(input(\"나이를 입력하세요: \"))\n",
        "fee = 5000 # 기본 입장료\n",
        "# 만약 8세 미만이거나 65세 이상이라면\n",
        "if age < 8 or age >= 65:\n",
        "  fee = 0 # 무료\n",
        "# 위의 조건이 아니고, 만약 8세 이상 14세 미만이라면\n",
        "elif age >= 8 and age < 14:\n",
        "    fee = fee * 0.5 # 50% 할인\n",
        "# 위의 조건들이 아니고, 만약 14세 이상 19세 미만이라면\n",
        "elif age >= 14 and age < 19:\n",
        "  fee = fee * 0.75 # 25% 할인\n",
        "# 위의 모든 조건에 해당하지 않는다면 (19세 이상 65세 미만)\n",
        "else:\n",
        "fee = fee # 정상 요금\n",
        "print(\"입장료는\", int(fee), \"원입니다.\")\n"
      ],
      "metadata": {
        "id": "k0Y41LpmkTdP"
      },
      "execution_count": null,
      "outputs": []
    },
    {
      "cell_type": "code",
      "source": [
        "#점수(0~100)를 입력받아서 ABCD로 학점을 출력하시오\n",
        "#조건:A는 90점이상, B는 70점 이상, C는 60점 이상, D는 60점 미만\n",
        "score=int(input())\n",
        "if score<=90 and score>=90:\n",
        "    print(\"A\")\n",
        "elif score<90 and score>=70:\n",
        "    print(\"B\")\n",
        "elif score<70 and score>=60:\n",
        "    print(\"C\")\n",
        "elif score<60:\n",
        "    print(\"D\")\n",
        "else:\n",
        "  print(\"잘못된 입력값입니다\")"
      ],
      "metadata": {
        "colab": {
          "base_uri": "https://localhost:8080/"
        },
        "id": "u18xkpVomcC0",
        "outputId": "f61e372e-8ebd-4aed-8c3c-bb7def1010a2"
      },
      "execution_count": 66,
      "outputs": [
        {
          "output_type": "stream",
          "name": "stdout",
          "text": [
            "-1\n",
            "잘못된 입력값입니다\n"
          ]
        }
      ]
    },
    {
      "cell_type": "code",
      "source": [
        "score=int(input())\n",
        "if score>=0 and score<=100:\n",
        "  if score>=90:\n",
        "    print(\"A\")\n",
        "\n",
        "  elif score>=70:\n",
        "    print(\"B\")\n",
        "\n",
        "  elif score>=60:\n",
        "    print(\"C\")\n",
        "  else:\n",
        "    print(\"D\")\n",
        "else:\n",
        "  print(\"잘못된 입력값입니다\")"
      ],
      "metadata": {
        "id": "oVyCfFa8qmhv"
      },
      "execution_count": null,
      "outputs": []
    },
    {
      "cell_type": "code",
      "source": [
        "sum = 0 # 합계를 저장할 변수를 0으로 초기화\n",
        "for a in range(1, 101):\n",
        "  sum = sum + a\n",
        "print(\"1부터 5까지의 합은\", sum, \"입니다.\")"
      ],
      "metadata": {
        "colab": {
          "base_uri": "https://localhost:8080/"
        },
        "id": "RMTfMo4XvtkS",
        "outputId": "0b976484-a65a-4a3b-8de1-6cbb73b4a2c0"
      },
      "execution_count": 108,
      "outputs": [
        {
          "output_type": "stream",
          "name": "stdout",
          "text": [
            "1부터 5까지의 합은 5050 입니다.\n"
          ]
        }
      ]
    },
    {
      "cell_type": "code",
      "source": [
        "sum1=0#짝수합\n",
        "sum2=0#홀수합\n",
        "for i in range(1, 101):\n",
        "  if i%2==0:\n",
        "    sum1+=i\n",
        "  else:\n",
        "    sum2+=i\n",
        "print(\"1부터 100까지의 짝수합은\",sum1,\"이며 홀수합은\",sum2,\"입니다\")\n"
      ],
      "metadata": {
        "colab": {
          "base_uri": "https://localhost:8080/"
        },
        "id": "yYP1HJpyyfw3",
        "outputId": "b8ed46b7-cfcb-4b44-a110-3d7312a35b81"
      },
      "execution_count": 117,
      "outputs": [
        {
          "output_type": "stream",
          "name": "stdout",
          "text": [
            "1부터 100까지의 짝수합은 2550 이며 홀수합은 2500 입니다\n"
          ]
        }
      ]
    },
    {
      "cell_type": "code",
      "source": [
        "S1=0\n",
        "for i in range(2, 101, 2):\n",
        "  S1+=i\n",
        "S1=0\n",
        "for i in range(1,101,2):\n",
        "  S1+=i\n",
        "print(\"1부터 100까지의 짝수합은\",S1,\"이다\")\n",
        "print(\"1부터 100까지의 홀수합은\",S1,\"이다\")"
      ],
      "metadata": {
        "colab": {
          "base_uri": "https://localhost:8080/"
        },
        "id": "IlPMz9R_05D1",
        "outputId": "8ff7a4d3-0c89-4eaf-f446-b8cdcb862ce3"
      },
      "execution_count": 121,
      "outputs": [
        {
          "output_type": "stream",
          "name": "stdout",
          "text": [
            "1부터 100까지의 짝수합은 2550 이며 홀수합은 2500 입니다\n"
          ]
        }
      ]
    },
    {
      "cell_type": "code",
      "source": [
        "sum = 0\n",
        "money = 100\n",
        "day = 1\n",
        "while sum < 50000:\n",
        "  sum = sum + money\n",
        "  money = money + 100\n",
        "  day = day + 1\n",
        "print(\"총\", day, \"일이 걸립니다.\")"
      ],
      "metadata": {
        "colab": {
          "base_uri": "https://localhost:8080/"
        },
        "id": "BFY3cJYa3QQC",
        "outputId": "f8f6b311-3510-4156-e3ba-5aeb4081087a"
      },
      "execution_count": 129,
      "outputs": [
        {
          "output_type": "stream",
          "name": "stdout",
          "text": [
            "총 33 일이 걸립니다.\n"
          ]
        }
      ]
    },
    {
      "cell_type": "code",
      "source": [
        "#숫자를 입력받아서 총합을 구하는 프로그램을 작성하시오. 단 0을 입력하면 종료되고 총합을 출력한다"
      ],
      "metadata": {
        "id": "nS_s3EejvoHj"
      },
      "execution_count": null,
      "outputs": []
    },
    {
      "cell_type": "code",
      "source": [
        "sum4=0\n",
        "N=int(input())\n",
        "while not N==0:\n",
        "  sum4+=N\n",
        "  N=int(input())\n",
        "print(sum4)"
      ],
      "metadata": {
        "colab": {
          "base_uri": "https://localhost:8080/"
        },
        "id": "1yJZ1q7T4cq6",
        "outputId": "91d97d3e-e2ad-426d-90ea-eca78540a53a"
      },
      "execution_count": 155,
      "outputs": [
        {
          "output_type": "stream",
          "name": "stdout",
          "text": [
            "1\n",
            "2\n",
            "3\n",
            "0\n",
            "6\n"
          ]
        }
      ]
    }
  ]
}