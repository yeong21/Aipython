{
  "nbformat": 4,
  "nbformat_minor": 0,
  "metadata": {
    "colab": {
      "provenance": []
    },
    "kernelspec": {
      "name": "python3",
      "display_name": "Python 3"
    },
    "language_info": {
      "name": "python"
    }
  },
  "cells": [
    {
      "cell_type": "code",
      "execution_count": 1,
      "metadata": {
        "id": "ujBZ7wo6mvgo"
      },
      "outputs": [],
      "source": [
        "#함수를 만들때는 함수를 정의한다라고하며 함수를 사용할때는 함수를 호출한다\n",
        "#코드의 재사용성+유지보수의 편리함"
      ]
    },
    {
      "cell_type": "code",
      "source": [
        "#입력(Input) → 처리(Process) →출력(Output)'모델\n",
        "#입력값 == 매개변수\n",
        "# 출력 == 반환값"
      ],
      "metadata": {
        "id": "3fJaS0Dhn2OP"
      },
      "execution_count": 13,
      "outputs": []
    },
    {
      "cell_type": "code",
      "source": [
        "def BMI_cal(H,W):\n",
        "  BMI= W/H**2\n",
        "  return round(BMI,2)"
      ],
      "metadata": {
        "id": "qzg2EB-8n42P"
      },
      "execution_count": 16,
      "outputs": []
    },
    {
      "cell_type": "code",
      "source": [
        "H=float(input())/100\n",
        "W=float(input())\n",
        "BMI=BMI_cal(H,W)\n",
        "print(BMI)"
      ],
      "metadata": {
        "colab": {
          "base_uri": "https://localhost:8080/"
        },
        "id": "lJAg7cSEsoVg",
        "outputId": "c173ba96-fc48-483e-cce0-9f6e468a08fe"
      },
      "execution_count": 32,
      "outputs": [
        {
          "output_type": "stream",
          "name": "stdout",
          "text": [
            "180\n",
            "20\n",
            "6.17\n"
          ]
        }
      ]
    },
    {
      "cell_type": "code",
      "source": [
        "H,W = map(float, input().split())\n",
        "BMI=BMI_cal(H/100,W)\n",
        "print(BMI)"
      ],
      "metadata": {
        "colab": {
          "base_uri": "https://localhost:8080/"
        },
        "id": "aFlbEODitLmA",
        "outputId": "eb3c9abb-7662-4924-c7b0-c8aef01bd31f"
      },
      "execution_count": 31,
      "outputs": [
        {
          "output_type": "stream",
          "name": "stdout",
          "text": [
            "180 20\n",
            "6.17\n"
          ]
        }
      ]
    },
    {
      "cell_type": "code",
      "source": [
        "email = \"user@example.com\"\n",
        "username, domain = email.split(\"@\")\n",
        "print(f\"사용자명: {username}, 도메인: {domain}\")"
      ],
      "metadata": {
        "id": "k3DcwWKy0qh4"
      },
      "execution_count": 44,
      "outputs": []
    },
    {
      "cell_type": "code",
      "source": [
        "csv_data = \"김철수,30,서울,개발자\"\n",
        "data_list= csv_data.split(',')\n",
        "print(f\"분리된 데이터: {data_list}\")"
      ],
      "metadata": {
        "colab": {
          "base_uri": "https://localhost:8080/"
        },
        "id": "yglpssby3jZw",
        "outputId": "6384215e-f001-4c04-d1c9-62e6824eff02"
      },
      "execution_count": 47,
      "outputs": [
        {
          "output_type": "stream",
          "name": "stdout",
          "text": [
            "분리된 데이터: ['김철수', '30', '서울', '개발자']\n"
          ]
        }
      ]
    },
    {
      "cell_type": "code",
      "source": [
        "folders = [\"home\", \"user\", \"documents\", \"project\"]\n",
        "path='/'.join(folders)\n",
        "print(f\"경로: {path}\")"
      ],
      "metadata": {
        "colab": {
          "base_uri": "https://localhost:8080/"
        },
        "id": "aJfTRlPg6FAo",
        "outputId": "21976684-2795-4035-cd68-3381e1544983"
      },
      "execution_count": 48,
      "outputs": [
        {
          "output_type": "stream",
          "name": "stdout",
          "text": [
            "경로: home/user/documents/project\n"
          ]
        }
      ]
    },
    {
      "cell_type": "code",
      "source": [
        "words = [\"Python\", \"is\", \"awesome\"]\n",
        "sentence=' '.join(words)\n",
        "print(f\"문장: {sentence}\")"
      ],
      "metadata": {
        "colab": {
          "base_uri": "https://localhost:8080/"
        },
        "id": "GINBvXyA6yUC",
        "outputId": "95e4ef67-3487-4911-d71a-7a97984981a6"
      },
      "execution_count": 50,
      "outputs": [
        {
          "output_type": "stream",
          "name": "stdout",
          "text": [
            "문장: Python is awesome\n"
          ]
        }
      ]
    },
    {
      "cell_type": "code",
      "source": [
        "multiples_of_3=[x for x in range(1,21) if x%3==0]\n",
        "print(f\"3의 배수: {multiples_of_3}\")"
      ],
      "metadata": {
        "colab": {
          "base_uri": "https://localhost:8080/"
        },
        "id": "WpJ_hl3b76Oh",
        "outputId": "f2aa1989-0512-40b8-b8d7-e5e3b2c54840"
      },
      "execution_count": 51,
      "outputs": [
        {
          "output_type": "stream",
          "name": "stdout",
          "text": [
            "3의 배수: [3, 6, 9, 12, 15, 18]\n"
          ]
        }
      ]
    },
    {
      "cell_type": "code",
      "source": [
        "fruits = [\"apple\", \"banana\", \"cherry\"]\n",
        "upper_fruits= [x.upper() for x in fruits]\n",
        "print(f\"대문자 과일: {upper_fruits}\")"
      ],
      "metadata": {
        "colab": {
          "base_uri": "https://localhost:8080/"
        },
        "id": "R20W2Tho8OxQ",
        "outputId": "74e5a662-a9fb-443f-8564-0a6e8deea608"
      },
      "execution_count": 53,
      "outputs": [
        {
          "output_type": "stream",
          "name": "stdout",
          "text": [
            "대문자 과일: ['APPLE', 'BANANA', 'CHERRY']\n"
          ]
        }
      ]
    },
    {
      "cell_type": "code",
      "source": [
        "words = [\"Python\", \"is\", \"powerful\"]\n",
        "word_lengths= [len(x) for x in words]\n",
        "print(f\"단어 길이: {word_lengths}\")"
      ],
      "metadata": {
        "colab": {
          "base_uri": "https://localhost:8080/"
        },
        "id": "P5ngMwRP8okA",
        "outputId": "031827fc-29c4-42f5-ec10-46794e8650c1"
      },
      "execution_count": 54,
      "outputs": [
        {
          "output_type": "stream",
          "name": "stdout",
          "text": [
            "단어 길이: [6, 2, 8]\n"
          ]
        }
      ]
    },
    {
      "cell_type": "code",
      "source": [
        "numbers = [1, 2, 3, 4, 5, 6]\n",
        "processed = [x**2 if x % 2 == 0 else x for x in numbers]\n",
        "print(f\"처리된 숫자: {processed}\")\n",
        "print(\"\\n\" + \"=\" * 60)\n",
        "print(\"3. enumerate & zip - 짝꿍처럼 다루기\")\n",
        "print(\"=\" * 60)"
      ],
      "metadata": {
        "id": "cihiXL-a8-rY"
      },
      "execution_count": null,
      "outputs": []
    },
    {
      "cell_type": "code",
      "source": [
        "scores = [95, 87, 92, 88]\n",
        "print(\"성적 순위:\")\n",
        "for rank, score in enumerate(scores,start=1):\n",
        "  print(f\"  {rank}등: {score}점\")"
      ],
      "metadata": {
        "colab": {
          "base_uri": "https://localhost:8080/"
        },
        "id": "cNpBIE96-Kpg",
        "outputId": "44ae2cbf-e704-4052-9a0a-ac437855ee75"
      },
      "execution_count": 57,
      "outputs": [
        {
          "output_type": "stream",
          "name": "stdout",
          "text": [
            "성적 순위:\n",
            "  1등: 95점\n",
            "  2등: 87점\n",
            "  3등: 92점\n",
            "  4등: 88점\n"
          ]
        }
      ]
    },
    {
      "cell_type": "code",
      "source": [
        "students = [\"철수\", \"영희\", \"민수\"]\n",
        "scores = [85, 92, 78]\n",
        "grades = [\"B\", \"A\", \"C\"]\n",
        "print(\"\\n학생 성적표:\")\n",
        "for name, score, grade in zip(students,scores,grades):\n",
        "  print(f\"  {name}: {score}점 ({grade}학점)\")"
      ],
      "metadata": {
        "colab": {
          "base_uri": "https://localhost:8080/"
        },
        "id": "NyJwsrpJ-syw",
        "outputId": "71ed0e16-285c-4ee9-bcbc-db22c3069445"
      },
      "execution_count": 60,
      "outputs": [
        {
          "output_type": "stream",
          "name": "stdout",
          "text": [
            "\n",
            "학생 성적표:\n",
            "  철수: 85점 (B학점)\n",
            "  영희: 92점 (A학점)\n",
            "  민수: 78점 (C학점)\n"
          ]
        }
      ]
    },
    {
      "cell_type": "code",
      "source": [
        "keys = [\"name\", \"age\", \"city\"]\n",
        "values = [\"홍길동\", 25, \"부산\"]\n",
        "person_dict = dict(zip(keys, values))\n",
        "print(f\"\\n딕셔너리: {person_dict}\")\n",
        "print(\"\\n\" + \"=\" * 60)\n",
        "print(\"4. lambda & map - 함수를 작고 유연하게\")"
      ],
      "metadata": {
        "colab": {
          "base_uri": "https://localhost:8080/"
        },
        "id": "kL-p-fmG_Wjh",
        "outputId": "4149064c-c32c-40b7-e8c3-936eaa2eef4f"
      },
      "execution_count": 61,
      "outputs": [
        {
          "output_type": "stream",
          "name": "stdout",
          "text": [
            "\n",
            "딕셔너리: {'name': '홍길동', 'age': 25, 'city': '부산'}\n",
            "\n",
            "============================================================\n",
            "4. lambda & map - 함수를 작고 유연하게\n"
          ]
        }
      ]
    },
    {
      "cell_type": "code",
      "source": [
        "celsius = [0, 10, 20, 30, 40]\n",
        "fahrenheit= list(map(lambda x: (x*9/5)+32,celsius))\n",
        "\n",
        "print(f\"섭씨: {celsius}\")\n",
        "print(f\"화씨: {fahrenheit}\")"
      ],
      "metadata": {
        "colab": {
          "base_uri": "https://localhost:8080/"
        },
        "id": "-FAqYEah_7ZJ",
        "outputId": "51c55566-2026-4310-8fd5-726728620b04"
      },
      "execution_count": 63,
      "outputs": [
        {
          "output_type": "stream",
          "name": "stdout",
          "text": [
            "섭씨: [0, 10, 20, 30, 40]\n",
            "화씨: [32.0, 50.0, 68.0, 86.0, 104.0]\n"
          ]
        }
      ]
    },
    {
      "cell_type": "code",
      "source": [
        "words = [\"Python\", \"is\", \"fun\", \"to\", \"learn\"]\n",
        "lengths= list(map(lambda x:len(x),words))\n",
        "print(f\"\\n단어: {words}\")\n",
        "print(f\"길이: {lengths}\")"
      ],
      "metadata": {
        "colab": {
          "base_uri": "https://localhost:8080/"
        },
        "id": "soCARW9dAYIy",
        "outputId": "f07fafa7-d14f-406f-ee1f-c23b110c9834"
      },
      "execution_count": 64,
      "outputs": [
        {
          "output_type": "stream",
          "name": "stdout",
          "text": [
            "\n",
            "단어: ['Python', 'is', 'fun', 'to', 'learn']\n",
            "길이: [6, 2, 3, 2, 5]\n"
          ]
        }
      ]
    },
    {
      "cell_type": "code",
      "source": [
        "list1 = [1, 2, 3, 4]\n",
        "list2 = [10, 20, 30, 40]\n",
        "sums = list(map(lambda x, y: x + y, list1, list2))\n",
        "\n",
        "print(f\"\\n리스트1: {list1}\")\n",
        "print(f\"리스트2: {list2}\")\n",
        "print(f\"합: {sums}\")"
      ],
      "metadata": {
        "colab": {
          "base_uri": "https://localhost:8080/"
        },
        "id": "xKhbvW0eAytB",
        "outputId": "00afd9fd-39c4-4957-9740-1768675c74db"
      },
      "execution_count": 65,
      "outputs": [
        {
          "output_type": "stream",
          "name": "stdout",
          "text": [
            "\n",
            "리스트1: [1, 2, 3, 4]\n",
            "리스트2: [10, 20, 30, 40]\n",
            "합: [11, 22, 33, 44]\n"
          ]
        }
      ]
    },
    {
      "cell_type": "code",
      "source": [
        "numbers = [-5, 3, -1, 8, 0, -3, 7]\n",
        "positive=list(filter(lambda x:x>0,numbers))\n",
        "print(f\"전체 숫자: {numbers}\")\n",
        "print(f\"양수만: {positive}\")"
      ],
      "metadata": {
        "colab": {
          "base_uri": "https://localhost:8080/"
        },
        "id": "OME6dkYUCQiR",
        "outputId": "d55ab1af-39ec-4f61-89bc-2c4e5567ffd1"
      },
      "execution_count": 66,
      "outputs": [
        {
          "output_type": "stream",
          "name": "stdout",
          "text": [
            "전체 숫자: [-5, 3, -1, 8, 0, -3, 7]\n",
            "양수만: [3, 8, 7]\n"
          ]
        }
      ]
    },
    {
      "cell_type": "code",
      "source": [],
      "metadata": {
        "id": "jq1MOm_gC6Vh"
      },
      "execution_count": null,
      "outputs": []
    }
  ]
}