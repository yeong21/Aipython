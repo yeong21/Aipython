{
  "nbformat": 4,
  "nbformat_minor": 0,
  "metadata": {
    "colab": {
      "provenance": []
    },
    "kernelspec": {
      "name": "python3",
      "display_name": "Python 3"
    },
    "language_info": {
      "name": "python"
    }
  },
  "cells": [
    {
      "cell_type": "code",
      "source": [
        "Word =[\"a\",\"b\",\"c\",\"d\",\"e\"]\n",
        "nums=[1,2,3,4,5]\n",
        "prices = [1000, 2500, 3000, 1500, 5000]"
      ],
      "metadata": {
        "id": "uptVpgxHlbIl"
      },
      "execution_count": 147,
      "outputs": []
    },
    {
      "cell_type": "code",
      "source": [
        "Word"
      ],
      "metadata": {
        "colab": {
          "base_uri": "https://localhost:8080/"
        },
        "id": "35RaRjkbl4d1",
        "outputId": "afd6d30f-e28e-49fa-a9e4-b8248f9c3fa3"
      },
      "execution_count": 7,
      "outputs": [
        {
          "output_type": "execute_result",
          "data": {
            "text/plain": [
              "['a', 'b', 'c', 'd', 'e']"
            ]
          },
          "metadata": {},
          "execution_count": 7
        }
      ]
    },
    {
      "cell_type": "code",
      "source": [
        "nums"
      ],
      "metadata": {
        "colab": {
          "base_uri": "https://localhost:8080/"
        },
        "id": "c2JY7_8tl94d",
        "outputId": "83125b50-ab76-4f68-cc83-913268ba7938"
      },
      "execution_count": 8,
      "outputs": [
        {
          "output_type": "execute_result",
          "data": {
            "text/plain": [
              "[1, 2, 3, 4, 5]"
            ]
          },
          "metadata": {},
          "execution_count": 8
        }
      ]
    },
    {
      "cell_type": "code",
      "source": [
        "for i in range(len(nums)):\n",
        "  nums[i]=nums[i]*10"
      ],
      "metadata": {
        "id": "U96EEgeRmJmF"
      },
      "execution_count": 9,
      "outputs": []
    },
    {
      "cell_type": "code",
      "source": [
        "nums"
      ],
      "metadata": {
        "colab": {
          "base_uri": "https://localhost:8080/"
        },
        "id": "KwTQdNdvmZXV",
        "outputId": "ae8aaf23-bae0-403c-e67e-2722b9b9d82a"
      },
      "execution_count": 40,
      "outputs": [
        {
          "output_type": "execute_result",
          "data": {
            "text/plain": [
              "[10, 20, 30, 40, 50]"
            ]
          },
          "metadata": {},
          "execution_count": 40
        }
      ]
    },
    {
      "cell_type": "code",
      "source": [
        "books=[]"
      ],
      "metadata": {
        "id": "2-xz_oq1moyU"
      },
      "execution_count": 52,
      "outputs": []
    },
    {
      "cell_type": "code",
      "source": [
        "books.append('파이썬')"
      ],
      "metadata": {
        "id": "_kEJAdrlnqaz"
      },
      "execution_count": 53,
      "outputs": []
    },
    {
      "cell_type": "code",
      "source": [
        "books.append('C')"
      ],
      "metadata": {
        "id": "yjAVq4LMnrtb"
      },
      "execution_count": 54,
      "outputs": []
    },
    {
      "cell_type": "code",
      "source": [
        "books.append('자바')"
      ],
      "metadata": {
        "id": "O84BM65In42z"
      },
      "execution_count": 55,
      "outputs": []
    },
    {
      "cell_type": "code",
      "source": [
        "books.insert(2,\"Go\")"
      ],
      "metadata": {
        "id": "d2_IBtxgn7LT"
      },
      "execution_count": 56,
      "outputs": []
    },
    {
      "cell_type": "code",
      "source": [
        "books"
      ],
      "metadata": {
        "colab": {
          "base_uri": "https://localhost:8080/"
        },
        "id": "sHlqPAOromir",
        "outputId": "d3261e5f-ae84-4b18-b339-d42f76b66819"
      },
      "execution_count": 57,
      "outputs": [
        {
          "output_type": "execute_result",
          "data": {
            "text/plain": [
              "['파이썬', 'C', 'Go', '자바']"
            ]
          },
          "metadata": {},
          "execution_count": 57
        }
      ]
    },
    {
      "cell_type": "code",
      "source": [
        "books.extend(['C++','Pascal'])"
      ],
      "metadata": {
        "id": "Gs-CaXB5onPy"
      },
      "execution_count": 58,
      "outputs": []
    },
    {
      "cell_type": "code",
      "source": [
        "books"
      ],
      "metadata": {
        "colab": {
          "base_uri": "https://localhost:8080/"
        },
        "id": "LQ95e_1ypCNT",
        "outputId": "aad2a330-2aa9-4b9b-9fd6-ac43fc101b67"
      },
      "execution_count": 59,
      "outputs": [
        {
          "output_type": "execute_result",
          "data": {
            "text/plain": [
              "['파이썬', 'C', 'Go', '자바', 'C++', 'Pascal']"
            ]
          },
          "metadata": {},
          "execution_count": 59
        }
      ]
    },
    {
      "cell_type": "code",
      "source": [
        "books.pop()"
      ],
      "metadata": {
        "colab": {
          "base_uri": "https://localhost:8080/",
          "height": 35
        },
        "id": "XfEqRu1epgGR",
        "outputId": "6b55a4e3-9fc2-42e8-9b39-1658d3b9de41"
      },
      "execution_count": 60,
      "outputs": [
        {
          "output_type": "execute_result",
          "data": {
            "text/plain": [
              "'Pascal'"
            ],
            "application/vnd.google.colaboratory.intrinsic+json": {
              "type": "string"
            }
          },
          "metadata": {},
          "execution_count": 60
        }
      ]
    },
    {
      "cell_type": "code",
      "source": [
        "del books"
      ],
      "metadata": {
        "id": "IuRIVRkrpDEq"
      },
      "execution_count": 50,
      "outputs": []
    },
    {
      "cell_type": "code",
      "source": [
        "books.remove('C')"
      ],
      "metadata": {
        "id": "TnXrWdv0pr1x"
      },
      "execution_count": 61,
      "outputs": []
    },
    {
      "cell_type": "code",
      "source": [
        "books"
      ],
      "metadata": {
        "colab": {
          "base_uri": "https://localhost:8080/"
        },
        "id": "10YUFn8MqAgB",
        "outputId": "84bf2fcf-b6f9-4e76-cf01-3cabd1be3cf5"
      },
      "execution_count": 62,
      "outputs": [
        {
          "output_type": "execute_result",
          "data": {
            "text/plain": [
              "['파이썬', 'Go', '자바', 'C++']"
            ]
          },
          "metadata": {},
          "execution_count": 62
        }
      ]
    },
    {
      "cell_type": "code",
      "source": [
        "books.clear()"
      ],
      "metadata": {
        "id": "ex5-hp28qGnx"
      },
      "execution_count": 64,
      "outputs": []
    },
    {
      "cell_type": "code",
      "source": [
        "books"
      ],
      "metadata": {
        "colab": {
          "base_uri": "https://localhost:8080/"
        },
        "id": "ft7iFZT5qLMg",
        "outputId": "fbab5307-4c9f-49cd-a51a-09fba6a2030f"
      },
      "execution_count": 65,
      "outputs": [
        {
          "output_type": "execute_result",
          "data": {
            "text/plain": [
              "[]"
            ]
          },
          "metadata": {},
          "execution_count": 65
        }
      ]
    },
    {
      "cell_type": "code",
      "source": [
        "nums.reverse()"
      ],
      "metadata": {
        "id": "qI73H2S6qL9h"
      },
      "execution_count": 66,
      "outputs": []
    },
    {
      "cell_type": "code",
      "source": [
        "nums"
      ],
      "metadata": {
        "colab": {
          "base_uri": "https://localhost:8080/"
        },
        "id": "Hmj1REbtqh2B",
        "outputId": "1a486c25-75ed-436f-99a4-3a435bc1e53a"
      },
      "execution_count": 67,
      "outputs": [
        {
          "output_type": "execute_result",
          "data": {
            "text/plain": [
              "[50, 40, 30, 20, 10]"
            ]
          },
          "metadata": {},
          "execution_count": 67
        }
      ]
    },
    {
      "cell_type": "code",
      "source": [
        "nums.sort(reverse=True)\n"
      ],
      "metadata": {
        "id": "X0M80cKNqibg"
      },
      "execution_count": 68,
      "outputs": []
    },
    {
      "cell_type": "code",
      "source": [
        "nums"
      ],
      "metadata": {
        "colab": {
          "base_uri": "https://localhost:8080/"
        },
        "id": "oed1XaXKqq34",
        "outputId": "57b265cc-c0f6-48dd-f16a-3c0d1a241c96"
      },
      "execution_count": 69,
      "outputs": [
        {
          "output_type": "execute_result",
          "data": {
            "text/plain": [
              "[50, 40, 30, 20, 10]"
            ]
          },
          "metadata": {},
          "execution_count": 69
        }
      ]
    },
    {
      "cell_type": "code",
      "source": [
        "books=['파이썬', 'C', 'Go', '자바', 'C++', 'Pascal']"
      ],
      "metadata": {
        "id": "Ualu5YRHqtQg"
      },
      "execution_count": 71,
      "outputs": []
    },
    {
      "cell_type": "code",
      "source": [
        "books"
      ],
      "metadata": {
        "colab": {
          "base_uri": "https://localhost:8080/"
        },
        "id": "seNBLCCVrPhY",
        "outputId": "dc5bbbf9-70df-4e27-fb76-6f9f34b8c76f"
      },
      "execution_count": 72,
      "outputs": [
        {
          "output_type": "execute_result",
          "data": {
            "text/plain": [
              "['파이썬', 'C', 'Go', '자바', 'C++', 'Pascal']"
            ]
          },
          "metadata": {},
          "execution_count": 72
        }
      ]
    },
    {
      "cell_type": "code",
      "source": [
        "'자바' in books"
      ],
      "metadata": {
        "colab": {
          "base_uri": "https://localhost:8080/"
        },
        "id": "RpS7ppUarRCf",
        "outputId": "3b19f1e2-58c4-42de-ddce-3e5df630e020"
      },
      "execution_count": 73,
      "outputs": [
        {
          "output_type": "execute_result",
          "data": {
            "text/plain": [
              "True"
            ]
          },
          "metadata": {},
          "execution_count": 73
        }
      ]
    },
    {
      "cell_type": "code",
      "source": [
        "'java' in books"
      ],
      "metadata": {
        "colab": {
          "base_uri": "https://localhost:8080/"
        },
        "id": "I2_pXxM6rXA_",
        "outputId": "f3fe412b-0610-44ea-c6d7-51ab9f9a6242"
      },
      "execution_count": 74,
      "outputs": [
        {
          "output_type": "execute_result",
          "data": {
            "text/plain": [
              "False"
            ]
          },
          "metadata": {},
          "execution_count": 74
        }
      ]
    },
    {
      "cell_type": "code",
      "source": [
        "books.index('자바')"
      ],
      "metadata": {
        "colab": {
          "base_uri": "https://localhost:8080/"
        },
        "id": "AY9baXeArZWY",
        "outputId": "b2124852-f6b7-47d6-ea65-6bc93a8d16ed"
      },
      "execution_count": 77,
      "outputs": [
        {
          "output_type": "execute_result",
          "data": {
            "text/plain": [
              "3"
            ]
          },
          "metadata": {},
          "execution_count": 77
        }
      ]
    },
    {
      "cell_type": "code",
      "source": [
        "import random\n",
        "random.choice(books)"
      ],
      "metadata": {
        "colab": {
          "base_uri": "https://localhost:8080/",
          "height": 35
        },
        "id": "qRGj0p1PrlUp",
        "outputId": "6253c8e8-f595-4754-ee35-52a600a34a2f"
      },
      "execution_count": 144,
      "outputs": [
        {
          "output_type": "execute_result",
          "data": {
            "text/plain": [
              "'C'"
            ],
            "application/vnd.google.colaboratory.intrinsic+json": {
              "type": "string"
            }
          },
          "metadata": {},
          "execution_count": 144
        }
      ]
    },
    {
      "cell_type": "code",
      "source": [
        "max(prices)"
      ],
      "metadata": {
        "colab": {
          "base_uri": "https://localhost:8080/"
        },
        "id": "OUcArcZbr1qP",
        "outputId": "92697cac-e5bd-4852-dae2-b00878c94cdc"
      },
      "execution_count": 149,
      "outputs": [
        {
          "output_type": "execute_result",
          "data": {
            "text/plain": [
              "5000"
            ]
          },
          "metadata": {},
          "execution_count": 149
        }
      ]
    },
    {
      "cell_type": "code",
      "source": [
        "sum(prices)"
      ],
      "metadata": {
        "colab": {
          "base_uri": "https://localhost:8080/"
        },
        "id": "7l8zIPRCsX9n",
        "outputId": "96487900-af43-4272-a07e-3ec83e5a27a3"
      },
      "execution_count": 151,
      "outputs": [
        {
          "output_type": "execute_result",
          "data": {
            "text/plain": [
              "13000"
            ]
          },
          "metadata": {},
          "execution_count": 151
        }
      ]
    },
    {
      "cell_type": "code",
      "source": [
        "sum1=0\n",
        "for i in range(len(prices)):\n",
        "  sum1+= prices[i]\n",
        "sum1"
      ],
      "metadata": {
        "colab": {
          "base_uri": "https://localhost:8080/"
        },
        "id": "-h7Gv-gFsjEe",
        "outputId": "f3f3fe4c-9d3d-47bd-c9a6-6d7c8d89920e"
      },
      "execution_count": 153,
      "outputs": [
        {
          "output_type": "execute_result",
          "data": {
            "text/plain": [
              "13000"
            ]
          },
          "metadata": {},
          "execution_count": 153
        }
      ]
    },
    {
      "cell_type": "code",
      "source": [],
      "metadata": {
        "id": "4tfEyiycs8Nm"
      },
      "execution_count": null,
      "outputs": []
    },
    {
      "cell_type": "code",
      "metadata": {
        "colab": {
          "base_uri": "https://localhost:8080/"
        },
        "id": "3f54bcfc",
        "outputId": "02ba3f5c-796e-4e48-b0ee-5d9b85dd77f7"
      },
      "source": [
        "dynasties = [\n",
        "    \"태조\", \"정종\", \"태종\", \"세종\", \"문종\", \"단종\", \"세조\", \"예종\", \"성종\", \"연산군\",\n",
        "    \"중종\", \"인종\", \"명종\", \"선조\", \"광해군\", \"인조\", \"효종\", \"현종\", \"숙종\", \"경종\",\n",
        "    \"영조\", \"정조\", \"순조\", \"헌종\", \"철종\", \"고종\", \"순종\"\n",
        "]\n",
        "\n",
        "print(dynasties)"
      ],
      "execution_count": 154,
      "outputs": [
        {
          "output_type": "stream",
          "name": "stdout",
          "text": [
            "['태조', '정종', '태종', '세종', '문종', '단종', '세조', '예종', '성종', '연산군', '중종', '인종', '명종', '선조', '광해군', '인조', '효종', '현종', '숙종', '경종', '영조', '정조', '순조', '헌종', '철종', '고종', '순종']\n"
          ]
        }
      ]
    },
    {
      "cell_type": "code",
      "source": [
        "dynasties.index('철종')"
      ],
      "metadata": {
        "id": "vT3W6FFa5qJp"
      },
      "execution_count": null,
      "outputs": []
    },
    {
      "cell_type": "code",
      "source": [
        "for i in range(len(dynasties)):\n",
        "  print(f\"{i+1}대 {dynasties[i]}\")"
      ],
      "metadata": {
        "colab": {
          "base_uri": "https://localhost:8080/"
        },
        "id": "KsX5I3uqvy4z",
        "outputId": "a5e7c7b2-8fb2-4f05-eafa-4ad2f87ee726"
      },
      "execution_count": 160,
      "outputs": [
        {
          "output_type": "stream",
          "name": "stdout",
          "text": [
            "1대 태조\n",
            "2대 정종\n",
            "3대 태종\n",
            "4대 세종\n",
            "5대 문종\n",
            "6대 단종\n",
            "7대 세조\n",
            "8대 예종\n",
            "9대 성종\n",
            "10대 연산군\n",
            "11대 중종\n",
            "12대 인종\n",
            "13대 명종\n",
            "14대 선조\n",
            "15대 광해군\n",
            "16대 인조\n",
            "17대 효종\n",
            "18대 현종\n",
            "19대 숙종\n",
            "20대 경종\n",
            "21대 영조\n",
            "22대 정조\n",
            "23대 순조\n",
            "24대 헌종\n",
            "25대 철종\n",
            "26대 고종\n",
            "27대 순종\n"
          ]
        }
      ]
    },
    {
      "cell_type": "code",
      "source": [
        "AS= input('순번또는 왕의 이름을 입력')\n",
        "if AS.isdigit():\n",
        "  AS=int(AS)\n",
        "  print(f'{dynasties[AS-1]}')\n",
        "elif AS in dynasties:\n",
        "  print(f'{AS}는 {dynasties.index(AS)+1}대 왕입니다')"
      ],
      "metadata": {
        "colab": {
          "base_uri": "https://localhost:8080/"
        },
        "id": "pWDGxRwN5w-h",
        "outputId": "49def5d1-8956-4d8c-fac0-b37e88e677fc"
      },
      "execution_count": 203,
      "outputs": [
        {
          "output_type": "stream",
          "name": "stdout",
          "text": [
            "순번또는 왕의 이름을 입력태조\n",
            "태조는 1대 왕입니다\n"
          ]
        }
      ]
    },
    {
      "cell_type": "code",
      "source": [
        "char1='\\'한글\\'\\t사용법'\n"
      ],
      "metadata": {
        "id": "LxwZop69u39U"
      },
      "execution_count": 174,
      "outputs": []
    },
    {
      "cell_type": "code",
      "source": [
        "print(char1)"
      ],
      "metadata": {
        "colab": {
          "base_uri": "https://localhost:8080/"
        },
        "id": "7EZduspd0mJm",
        "outputId": "8cb63830-1c26-424f-cf6c-5e71f109f655"
      },
      "execution_count": 175,
      "outputs": [
        {
          "output_type": "stream",
          "name": "stdout",
          "text": [
            "'한글'\t사용법\n"
          ]
        }
      ]
    },
    {
      "cell_type": "code",
      "source": [
        "char2='메뉴얼'"
      ],
      "metadata": {
        "id": "DTTeL_qr0sD2"
      },
      "execution_count": 176,
      "outputs": []
    },
    {
      "cell_type": "code",
      "source": [
        "print(char1+char2)"
      ],
      "metadata": {
        "colab": {
          "base_uri": "https://localhost:8080/"
        },
        "id": "NsQrHCiq1htd",
        "outputId": "93928722-144d-4df3-916e-2c303d9db89c"
      },
      "execution_count": 177,
      "outputs": [
        {
          "output_type": "stream",
          "name": "stdout",
          "text": [
            "'한글'\t사용법메뉴얼\n"
          ]
        }
      ]
    },
    {
      "cell_type": "code",
      "source": [
        "s='hello'*5"
      ],
      "metadata": {
        "id": "s8P91ywH1-AN"
      },
      "execution_count": 178,
      "outputs": []
    },
    {
      "cell_type": "code",
      "source": [
        "s"
      ],
      "metadata": {
        "colab": {
          "base_uri": "https://localhost:8080/",
          "height": 35
        },
        "id": "9jHoaTaa2JHk",
        "outputId": "a6418e36-2eab-4e7b-f6af-7d27f55a666f"
      },
      "execution_count": 180,
      "outputs": [
        {
          "output_type": "execute_result",
          "data": {
            "text/plain": [
              "'hellohellohellohellohello'"
            ],
            "application/vnd.google.colaboratory.intrinsic+json": {
              "type": "string"
            }
          },
          "metadata": {},
          "execution_count": 180
        }
      ]
    },
    {
      "cell_type": "code",
      "source": [
        "'Python'.lower()"
      ],
      "metadata": {
        "colab": {
          "base_uri": "https://localhost:8080/",
          "height": 35
        },
        "id": "17m_TSfK2Jqc",
        "outputId": "e723f91f-22ed-4a70-d04e-78da2baa1072"
      },
      "execution_count": 181,
      "outputs": [
        {
          "output_type": "execute_result",
          "data": {
            "text/plain": [
              "'python'"
            ],
            "application/vnd.google.colaboratory.intrinsic+json": {
              "type": "string"
            }
          },
          "metadata": {},
          "execution_count": 181
        }
      ]
    },
    {
      "cell_type": "code",
      "source": [
        "ord('a')"
      ],
      "metadata": {
        "colab": {
          "base_uri": "https://localhost:8080/"
        },
        "id": "9BxkPEYc26jE",
        "outputId": "3ff011ce-f764-44a7-da5e-233e6d992169"
      },
      "execution_count": 182,
      "outputs": [
        {
          "output_type": "execute_result",
          "data": {
            "text/plain": [
              "97"
            ]
          },
          "metadata": {},
          "execution_count": 182
        }
      ]
    },
    {
      "cell_type": "code",
      "source": [
        "AS= input('데이터를 입력')\n",
        "if AS.isdigit():\n",
        "  print('숫자입니다 ')\n",
        "else:\n",
        "  print('문자입니다')\n"
      ],
      "metadata": {
        "colab": {
          "base_uri": "https://localhost:8080/"
        },
        "id": "7abG_LR04O7j",
        "outputId": "eeec5d69-6263-48f6-c061-c8af82bf62ad"
      },
      "execution_count": 193,
      "outputs": [
        {
          "output_type": "stream",
          "name": "stdout",
          "text": [
            "데이터를 입력\n",
            "문자입니다\n"
          ]
        }
      ]
    },
    {
      "cell_type": "code",
      "source": [
        "coffe={'아메리카노':2000,'라테':3000,'녹차':2500}"
      ],
      "metadata": {
        "id": "PPSaKx4p-D78"
      },
      "execution_count": 208,
      "outputs": []
    },
    {
      "cell_type": "code",
      "source": [
        "coffe['아메리카노']"
      ],
      "metadata": {
        "colab": {
          "base_uri": "https://localhost:8080/"
        },
        "id": "oMwNFctn-7C8",
        "outputId": "e5245730-58fa-4b6f-cc94-64ab10bf43aa"
      },
      "execution_count": 211,
      "outputs": [
        {
          "output_type": "execute_result",
          "data": {
            "text/plain": [
              "2000"
            ]
          },
          "metadata": {},
          "execution_count": 211
        }
      ]
    },
    {
      "cell_type": "code",
      "source": [
        "for k in coffe.itemns():\n",
        "  print(coffe[k])"
      ],
      "metadata": {
        "colab": {
          "base_uri": "https://localhost:8080/"
        },
        "id": "uctbTPix-8a0",
        "outputId": "49a93cdb-914d-420c-bba0-c6c849c53212"
      },
      "execution_count": 217,
      "outputs": [
        {
          "output_type": "stream",
          "name": "stdout",
          "text": [
            "2000\n",
            "3000\n",
            "2500\n"
          ]
        }
      ]
    },
    {
      "cell_type": "code",
      "source": [
        "for k,v in coffe.items():\n",
        "  print(k,v)"
      ],
      "metadata": {
        "colab": {
          "base_uri": "https://localhost:8080/"
        },
        "id": "BzjG8G2j_swj",
        "outputId": "aa5c2128-57e3-40dc-b57c-814f8ed88a30"
      },
      "execution_count": 219,
      "outputs": [
        {
          "output_type": "stream",
          "name": "stdout",
          "text": [
            "아메리카노 2000\n",
            "라테 3000\n",
            "녹차 2500\n"
          ]
        }
      ]
    },
    {
      "cell_type": "code",
      "source": [
        "score={'홍길동':100,'이순신':90,'강감찬':80}\n",
        "\n",
        "print(sum(score.values()))\n",
        "print(max(score.values()))\n",
        "print(sum(score.values())/len(score.values()))"
      ],
      "metadata": {
        "colab": {
          "base_uri": "https://localhost:8080/"
        },
        "id": "lqJW_IFrArDK",
        "outputId": "5d6da303-1c8f-4af5-86e8-ccf3ea883092"
      },
      "execution_count": 227,
      "outputs": [
        {
          "output_type": "stream",
          "name": "stdout",
          "text": [
            "270\n",
            "100\n",
            "90.0\n"
          ]
        }
      ]
    },
    {
      "cell_type": "code",
      "source": [],
      "metadata": {
        "id": "HWlGy_dcBJ0J"
      },
      "execution_count": null,
      "outputs": []
    }
  ]
}